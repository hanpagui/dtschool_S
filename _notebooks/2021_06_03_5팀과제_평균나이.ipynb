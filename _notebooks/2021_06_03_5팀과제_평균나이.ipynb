{
  "nbformat": 4,
  "nbformat_minor": 0,
  "metadata": {
    "colab": {
      "name": "2021-06-03 5팀과제_평균나이.ipynb",
      "provenance": [],
      "collapsed_sections": [],
      "include_colab_link": true
    },
    "kernelspec": {
      "name": "python3",
      "display_name": "Python 3"
    },
    "language_info": {
      "name": "python"
    }
  },
  "cells": [
    {
      "cell_type": "markdown",
      "metadata": {
        "id": "view-in-github",
        "colab_type": "text"
      },
      "source": [
        "<a href=\"https://colab.research.google.com/github/hanpagui/dtschool_S/blob/master/_notebooks/2021_06_03_5%ED%8C%80%EA%B3%BC%EC%A0%9C_%ED%8F%89%EA%B7%A0%EB%82%98%EC%9D%B4.ipynb\" target=\"_parent\"><img src=\"https://colab.research.google.com/assets/colab-badge.svg\" alt=\"Open In Colab\"/></a>"
      ]
    },
    {
      "cell_type": "code",
      "metadata": {
        "colab": {
          "base_uri": "https://localhost:8080/"
        },
        "id": "TUf32oifwOEz",
        "outputId": "96171533-dfc3-49b5-d75f-34b279cb0555"
      },
      "source": [
        "alist = [23.2,26.25,21.6,22.7,19.6]\n",
        "blist = [0.85,0.64,0.83,0.84,0.54,0.69,0.91]    \n",
        "\n",
        "print(f'5월의 오조의 평균 연령은 {round(sum(alist)/len(alist),1)}입니다')\n",
        "print(f'5월의 오조의 평균 정확도는 {round(sum(blist)/len(blist),1)} 입니다') \n",
        "\n",
        "print('='*60)\n",
        "\n",
        "team_may = {'한슬기':['23.3','0.85','에리카'],\n",
        "            '신동열':['26.25','0.64','윤시윤'],\n",
        "            '이영이':['21.6',' 0.83','예인'],\n",
        "            '박정선':['22.6','0.54','구혜선'],\n",
        "            '김은수':['19.6','0.84','박보영'],\n",
        "            '노현정':['27.9','0.69', '문지인'],\n",
        "            '박제희':['27.9','0.91','강승현']}\n",
        "\n",
        "nick_name = input('누가 궁금한가요? : ')\n",
        "\n",
        "b_list = team_may[nick_name]\n",
        "\n",
        "print(f'오월의 오조 {nick_name}님의 평균나이는 {b_list[0]}이며, 정확도는 {b_list[1]}')\n",
        "print(f'{nick_name}님의 닮은꼴 연예인은? : {b_list[2]} ')"
      ],
      "execution_count": null,
      "outputs": [
        {
          "output_type": "stream",
          "text": [
            "5월의 오조의 평균 연령은 22.7입니다\n",
            "5월의 오조의 평균 정확도는 0.8 입니다\n",
            "============================================================\n",
            "누가 궁금한가요? : 신동열\n",
            "오월의 오조 신동열님의 평균나이는 26.25이며, 정확도는 0.64\n",
            "신동열님의 닮은꼴 연예인은? : 윤시윤 \n"
          ],
          "name": "stdout"
        }
      ]
    }
  ]
}